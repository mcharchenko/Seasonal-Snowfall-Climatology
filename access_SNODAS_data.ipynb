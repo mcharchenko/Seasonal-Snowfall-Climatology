{
 "cells": [
  {
   "cell_type": "code",
   "execution_count": 1,
   "id": "b583db2a",
   "metadata": {},
   "outputs": [],
   "source": [
    "from pathlib import Path\n",
    "from urllib.request import urlretrieve\n",
    "from datetime import datetime"
   ]
  },
  {
   "cell_type": "code",
   "execution_count": 5,
   "id": "f362f248",
   "metadata": {},
   "outputs": [],
   "source": [
    "# Creating a folder within the directory to store SNODAS data.\n",
    "\n",
    "project_dir = Path.cwd()\n",
    "data_dir = project_dir/ \"data\"\n",
    "data_dir.mkdir(exist_ok = True)"
   ]
  },
  {
   "cell_type": "code",
   "execution_count": 6,
   "id": "c7b92987",
   "metadata": {},
   "outputs": [
    {
     "name": "stdout",
     "output_type": "stream",
     "text": [
      "Downloading https://www.nohrsc.noaa.gov/snowfall_v2/data/200905/sfav2_CONUS_2008093012_to_2009050112.nc to /Users/mcharchenko/Coding/NOHRSC_SNODAS/data/2008-2009.nc\n",
      "Downloading https://www.nohrsc.noaa.gov/snowfall_v2/data/201005/sfav2_CONUS_2009093012_to_2010050112.nc to /Users/mcharchenko/Coding/NOHRSC_SNODAS/data/2009-2010.nc\n",
      "Downloading https://www.nohrsc.noaa.gov/snowfall_v2/data/201105/sfav2_CONUS_2010093012_to_2011050112.nc to /Users/mcharchenko/Coding/NOHRSC_SNODAS/data/2010-2011.nc\n",
      "Downloading https://www.nohrsc.noaa.gov/snowfall_v2/data/201205/sfav2_CONUS_2011093012_to_2012050112.nc to /Users/mcharchenko/Coding/NOHRSC_SNODAS/data/2011-2012.nc\n",
      "Downloading https://www.nohrsc.noaa.gov/snowfall_v2/data/201305/sfav2_CONUS_2012093012_to_2013050112.nc to /Users/mcharchenko/Coding/NOHRSC_SNODAS/data/2012-2013.nc\n",
      "Downloading https://www.nohrsc.noaa.gov/snowfall_v2/data/201405/sfav2_CONUS_2013093012_to_2014050112.nc to /Users/mcharchenko/Coding/NOHRSC_SNODAS/data/2013-2014.nc\n",
      "Downloading https://www.nohrsc.noaa.gov/snowfall_v2/data/201505/sfav2_CONUS_2014093012_to_2015050112.nc to /Users/mcharchenko/Coding/NOHRSC_SNODAS/data/2014-2015.nc\n",
      "Downloading https://www.nohrsc.noaa.gov/snowfall_v2/data/201605/sfav2_CONUS_2015093012_to_2016050112.nc to /Users/mcharchenko/Coding/NOHRSC_SNODAS/data/2015-2016.nc\n",
      "Downloading https://www.nohrsc.noaa.gov/snowfall_v2/data/201705/sfav2_CONUS_2016093012_to_2017050112.nc to /Users/mcharchenko/Coding/NOHRSC_SNODAS/data/2016-2017.nc\n",
      "Downloading https://www.nohrsc.noaa.gov/snowfall_v2/data/201805/sfav2_CONUS_2017093012_to_2018050112.nc to /Users/mcharchenko/Coding/NOHRSC_SNODAS/data/2017-2018.nc\n",
      "Downloading https://www.nohrsc.noaa.gov/snowfall_v2/data/201905/sfav2_CONUS_2018093012_to_2019050112.nc to /Users/mcharchenko/Coding/NOHRSC_SNODAS/data/2018-2019.nc\n",
      "Downloading https://www.nohrsc.noaa.gov/snowfall_v2/data/202005/sfav2_CONUS_2019093012_to_2020050112.nc to /Users/mcharchenko/Coding/NOHRSC_SNODAS/data/2019-2020.nc\n",
      "Downloading https://www.nohrsc.noaa.gov/snowfall_v2/data/202105/sfav2_CONUS_2020093012_to_2021050112.nc to /Users/mcharchenko/Coding/NOHRSC_SNODAS/data/2020-2021.nc\n",
      "Downloading https://www.nohrsc.noaa.gov/snowfall_v2/data/202205/sfav2_CONUS_2021093012_to_2022050112.nc to /Users/mcharchenko/Coding/NOHRSC_SNODAS/data/2021-2022.nc\n",
      "Downloading https://www.nohrsc.noaa.gov/snowfall_v2/data/202305/sfav2_CONUS_2022093012_to_2023050112.nc to /Users/mcharchenko/Coding/NOHRSC_SNODAS/data/2022-2023.nc\n",
      "Downloading https://www.nohrsc.noaa.gov/snowfall_v2/data/202405/sfav2_CONUS_2023093012_to_2024050112.nc to /Users/mcharchenko/Coding/NOHRSC_SNODAS/data/2023-2024.nc\n"
     ]
    }
   ],
   "source": [
    "# Accessing and downloading SNODAS data from NOHRSC Database. \n",
    "\n",
    "year = 2009\n",
    "\n",
    "for i in range(16):\n",
    "    date = f'{year+i}0501'\n",
    "    date_obj = datetime.strptime(date, \"%Y%m%d\")\n",
    "    \n",
    "    start_year = date_obj.year-1\n",
    "    \n",
    "    url_start = f'https://www.nohrsc.noaa.gov/snowfall_v2/data/{date_obj.year}{date_obj.month:02d}/'\n",
    "    url_for_var = f'sfav2_CONUS_{start_year}093012_to_{date}12.nc'\n",
    "    full_url = url_start+url_for_var\n",
    "\n",
    "    #dst = f'SNODAS_TEST_NCs/{start_year}-{date_obj.year}.nc'\n",
    "    dst = data_dir / f'{start_year}-{date_obj.year}.nc'\n",
    "    \n",
    "    print(f\"Downloading {full_url} to {dst}\")\n",
    "    urlretrieve(full_url,dst)"
   ]
  }
 ],
 "metadata": {
  "kernelspec": {
   "display_name": "Python 3 (ipykernel)",
   "language": "python",
   "name": "python3"
  },
  "language_info": {
   "codemirror_mode": {
    "name": "ipython",
    "version": 3
   },
   "file_extension": ".py",
   "mimetype": "text/x-python",
   "name": "python",
   "nbconvert_exporter": "python",
   "pygments_lexer": "ipython3",
   "version": "3.9.7"
  }
 },
 "nbformat": 4,
 "nbformat_minor": 5
}
